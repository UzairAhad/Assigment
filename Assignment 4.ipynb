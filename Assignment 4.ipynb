{
 "cells": [
  {
   "cell_type": "code",
   "execution_count": 1,
   "metadata": {},
   "outputs": [
    {
     "name": "stdout",
     "output_type": "stream",
     "text": [
      "{'first_name': 'abdul', 'last_name': 'azeem', 'age': 20, 'city': 'karachi'}\n",
      "{'first_name': 'abdul', 'last_name': 'azeem', 'age': 20, 'city': 'karachi', 'matriculation': 'High school umerkot', 'Intermidaite': 'Govt Boys College Umerkot', 'University': 'DUET'}\n",
      "{'first_name': 'abdul', 'last_name': 'azeem', 'age': 20, 'city': 'karachi', 'matriculation': 'High school umerkot', 'Intermidaite': 'Govt Boys College Umerkot', 'University': 'DUET'}\n"
     ]
    }
   ],
   "source": [
    "information={\n",
    "    \"first_name\":\"abdul\",\n",
    "    \"last_name\":\"azeem\",\n",
    "    \"age\":20,\n",
    "    \"city\":\"karachi\"\n",
    "}\n",
    "print(information)\n",
    "qualification={\n",
    "    \"matriculation\":\"High school umerkot\",\n",
    "    \"Intermidaite\":\"Govt Boys College Umerkot\",\n",
    "    \"University\":\"DUET\"\n",
    "}\n",
    "information.update(qualification)\n",
    "print(information)\n",
    "del (qualification)\n",
    "print(information)"
   ]
  },
  {
   "cell_type": "code",
   "execution_count": 2,
   "metadata": {},
   "outputs": [
    {
     "name": "stdout",
     "output_type": "stream",
     "text": [
      "{'Country': 'Pakistan', 'Population': '3 caror', 'Fact': 'City of lights'}\n",
      "{'Country': 'Pakistan', 'Population': '1 caror', 'Fact': 'colourful Shahi Bazaar'}\n",
      "{'Country': 'Pakistan', 'Population': '3 lac', 'Fact': 'city of agriculture'}\n",
      "dict_items([('karachi', {'Country': 'Pakistan', 'Population': '3 caror', 'Fact': 'City of lights'}), ('hyderabad', {'Country': 'Pakistan', 'Population': '1 caror', 'Fact': 'colourful Shahi Bazaar'}), ('dadu', {'Country': 'Pakistan', 'Population': '3 lac', 'Fact': 'city of agriculture'})])\n"
     ]
    }
   ],
   "source": [
    "cities={\n",
    "    \"karachi\":{\n",
    "        \"Country\":\"Pakistan\",\n",
    "        \"Population\":\"3 caror\",\n",
    "        \"Fact\":\"City of lights\"\n",
    "        \n",
    "    },\n",
    "    \"hyderabad\":{\n",
    "         \"Country\":\"Pakistan\",\n",
    "        \"Population\":\"1 caror\",\n",
    "        \"Fact\":\"colourful Shahi Bazaar\"\n",
    "        \n",
    "    },\n",
    "    \"dadu\":{\n",
    "        \"Country\":\"Pakistan\",\n",
    "        \"Population\":\"3 lac\",\n",
    "        \"Fact\":\"city of agriculture\"\n",
    "        \n",
    "    }\n",
    "}\n",
    "print(cities[\"karachi\"])\n",
    "print(cities[\"hyderabad\"])\n",
    "print(cities[\"dadu\"])\n",
    "print(cities.items())"
   ]
  },
  {
   "cell_type": "code",
   "execution_count": 3,
   "metadata": {},
   "outputs": [
    {
     "name": "stdout",
     "output_type": "stream",
     "text": [
      "Enter your age: 12\n",
      "The ticket is $10\n"
     ]
    }
   ],
   "source": [
    "age=int(input(\"Enter your age: \"))\n",
    "while True:\n",
    "    if age<3:\n",
    "        print(\"The ticket is free.\")\n",
    "        break\n",
    "    elif age>=3 and age <=12:\n",
    "        print(\"The ticket is $10\")\n",
    "        break\n",
    "    elif age >= 12:\n",
    "        print(\"The ticket is $15\")\n",
    "        break\n",
    "    else:\n",
    "        print(\"Wrong input try again.\")"
   ]
  },
  {
   "cell_type": "code",
   "execution_count": 4,
   "metadata": {},
   "outputs": [
    {
     "name": "stdout",
     "output_type": "stream",
     "text": [
      "Enter any book name: ahad\n",
      "One of my favourate book is ahad\n"
     ]
    }
   ],
   "source": [
    "def fav_book(tittle):\n",
    "    print(f\"One of my favourate book is {tittle}\")\n",
    "    \n",
    "user=input(\"Enter any book name: \")\n",
    "fav_book(user)\n",
    "    "
   ]
  },
  {
   "cell_type": "code",
   "execution_count": 12,
   "metadata": {},
   "outputs": [
    {
     "name": "stdout",
     "output_type": "stream",
     "text": [
      "Guess number: 45\n",
      "Number must be less then 30.\n",
      "Your guess is too high\n",
      "Guess number: 12\n",
      "Your guess is too low\n",
      "Guess number: 21\n",
      "Your guess is too high\n",
      "You did not guess the number, The number was 13\n"
     ]
    }
   ],
   "source": [
    "import random\n",
    "number = random.randint(1, 30)\n",
    "number_of_guesses=1\n",
    "while number_of_guesses < 4:\n",
    "    guess = int(input(\"Guess number: \"))\n",
    "    if guess > 30:\n",
    "        print(\"Number must be less then 30.\")\n",
    "    number_of_guesses += 1\n",
    "    if guess < number:\n",
    "        print('Your guess is too low')\n",
    "    if guess > number:\n",
    "        print('Your guess is too high')\n",
    "    if guess == number:\n",
    "        break\n",
    "if guess == number:\n",
    "    print('You guessed the number in ' + str(number_of_guesses) + ' tries!')\n",
    "else:\n",
    "    print('You did not guess the number, The number was ' + str(number))"
   ]
  },
  {
   "cell_type": "code",
   "execution_count": null,
   "metadata": {},
   "outputs": [],
   "source": []
  },
  {
   "cell_type": "code",
   "execution_count": null,
   "metadata": {},
   "outputs": [],
   "source": []
  }
 ],
 "metadata": {
  "kernelspec": {
   "display_name": "Python 3",
   "language": "python",
   "name": "python3"
  },
  "language_info": {
   "codemirror_mode": {
    "name": "ipython",
    "version": 3
   },
   "file_extension": ".py",
   "mimetype": "text/x-python",
   "name": "python",
   "nbconvert_exporter": "python",
   "pygments_lexer": "ipython3",
   "version": "3.7.4"
  }
 },
 "nbformat": 4,
 "nbformat_minor": 2
}
