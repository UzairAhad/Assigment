{
 "cells": [
  {
   "cell_type": "code",
   "execution_count": null,
   "metadata": {},
   "outputs": [],
   "source": [
    "sub1=int(input(\"Enter first subject's makrs: \"))\n",
    "sub2=int(input(\"Enter second subjct's marks: \"))\n",
    "sub3=int(input(\"Enter third subjct's marks: \"))\n",
    "sub4=int(input(\"Enter four subjct's marks: \"))\n",
    "sub5=int(input(\"Enter five subjct's marks: \"))\n",
    "total=sub1+sub2+sub3+sub4+sub5\n",
    "print(total)\n",
    "average=sub1+sub2+sub3+sub4+sub5/5\n",
    "if average>=90:\n",
    "    print(\"Grade A+\")\n",
    "elif average>=80:\n",
    "    print(\"Grade A\")\n",
    "elif average>=70:\n",
    "    print(\"Grade B\")\n",
    "elif average>=60:\n",
    "    print(\"Grade C\")\n",
    "elif average>=50:\n",
    "    print(\"Grade D\")\n",
    "else:\n",
    "    print(\"Fail\")"
   ]
  },
  {
   "cell_type": "code",
   "execution_count": null,
   "metadata": {},
   "outputs": [],
   "source": [
    "num=int(input(\"Enter number: \"))\n",
    "if (num/2==0):\n",
    "    print(\"Even\")\n",
    "else:\n",
    "    print(\"Odd\")"
   ]
  },
  {
   "cell_type": "code",
   "execution_count": null,
   "metadata": {},
   "outputs": [],
   "source": [
    "li=['a','b','c',1,2,3]\n",
    "print(len(li))"
   ]
  },
  {
   "cell_type": "code",
   "execution_count": null,
   "metadata": {},
   "outputs": [],
   "source": [
    "li=[1,2,3,4,5,6,7,8,9]\n",
    "print(sum(li))"
   ]
  },
  {
   "cell_type": "code",
   "execution_count": null,
   "metadata": {},
   "outputs": [],
   "source": [
    "li=[1,2,3,4,5,6,7,8,9]\n",
    "print(max(li))"
   ]
  },
  {
   "cell_type": "code",
   "execution_count": null,
   "metadata": {},
   "outputs": [],
   "source": [
    "li=[1,2,3,4,5,6,77,44,32,21,0]\n",
    "for i in li:\n",
    "    if i <5:\n",
    "        print(i)"
   ]
  }
 ],
 "metadata": {
  "kernelspec": {
   "display_name": "Python 3",
   "language": "python",
   "name": "python3"
  },
  "language_info": {
   "codemirror_mode": {
    "name": "ipython",
    "version": 3
   },
   "file_extension": ".py",
   "mimetype": "text/x-python",
   "name": "python",
   "nbconvert_exporter": "python",
   "pygments_lexer": "ipython3",
   "version": "3.7.4"
  }
 },
 "nbformat": 4,
 "nbformat_minor": 2
}
