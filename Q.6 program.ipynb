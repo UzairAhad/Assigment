{
 "cells": [
  {
   "cell_type": "code",
   "execution_count": 12,
   "metadata": {},
   "outputs": [],
   "source": [
    "class Car():\n",
    "    def __init__(Self,name,colour,company_name,plate_number,owner):\n",
    "        Self.name = name\n",
    "        Self.colour = colour\n",
    "        Self.company_name = company_name\n",
    "        Self.plate_number = plate_number\n",
    "        Self.owner = owner\n",
    "        \n",
    "        def speed(self, speed='250KM/H'):\n",
    "            print(\"This car \"+name+\" can run upto \"+speed)\n",
    "        def avg(self, avg='1L/10KM'):\n",
    "            print(\"This car \"+name+\" can run upto \"+speed+\" with average \"+avg)\n",
    "        def based(self,based='Light'):\n",
    "            print(\"This car \"+name+\" can run upto \"+speed+\" with average \"+avg+\" and it based on \"+based)"
   ]
  },
  {
   "cell_type": "code",
   "execution_count": 36,
   "metadata": {},
   "outputs": [
    {
     "ename": "TypeError",
     "evalue": "__init__() missing 5 required positional arguments: 'name', 'colour', 'company_name', 'plate_number', and 'owner'",
     "output_type": "error",
     "traceback": [
      "\u001b[1;31m---------------------------------------------------------------------------\u001b[0m",
      "\u001b[1;31mTypeError\u001b[0m                                 Traceback (most recent call last)",
      "\u001b[1;32m<ipython-input-36-c8e789720f66>\u001b[0m in \u001b[0;36m<module>\u001b[1;34m\u001b[0m\n\u001b[0;32m      5\u001b[0m \u001b[0mobj5\u001b[0m \u001b[1;33m=\u001b[0m \u001b[0mCar\u001b[0m\u001b[1;33m(\u001b[0m\u001b[1;34m\"Bentley\"\u001b[0m\u001b[1;33m,\u001b[0m\u001b[1;34m\"White\"\u001b[0m\u001b[1;33m,\u001b[0m\u001b[1;34m\"Volkswagen\"\u001b[0m\u001b[1;33m,\u001b[0m\u001b[1;34m\"LMN-456\"\u001b[0m\u001b[1;33m,\u001b[0m\u001b[1;34m\"Noroz\"\u001b[0m\u001b[1;33m)\u001b[0m\u001b[1;33m\u001b[0m\u001b[1;33m\u001b[0m\u001b[0m\n\u001b[0;32m      6\u001b[0m \u001b[1;33m\u001b[0m\u001b[0m\n\u001b[1;32m----> 7\u001b[1;33m \u001b[0mCar\u001b[0m\u001b[1;33m(\u001b[0m\u001b[1;33m)\u001b[0m\u001b[1;33m\u001b[0m\u001b[1;33m\u001b[0m\u001b[0m\n\u001b[0m",
      "\u001b[1;31mTypeError\u001b[0m: __init__() missing 5 required positional arguments: 'name', 'colour', 'company_name', 'plate_number', and 'owner'"
     ]
    }
   ],
   "source": [
    "obj1 = Car(\"Acura\",\"Black\",\"Honda\",\"ABC123\",\"Rasheed\")\n",
    "obj2 = Car(\"Alfa\",\"Red\",\"Fiat\",\"CDE-456\",\"Azeem\")\n",
    "obj3 = Car(\"Audi\",\"Blue\",\"Volkswagen\",\"FGH-789\",\"Abdul\")\n",
    "obj4 = Car(\"BMW\",\"Grey\",\"BMW\",\"IJK-198\",\"Murtaza\")\n",
    "obj5 = Car(\"Bentley\",\"White\",\"Volkswagen\",\"LMN-456\",\"Noroz\")\n",
    "\n",
    "Car()"
   ]
  },
  {
   "cell_type": "code",
   "execution_count": null,
   "metadata": {},
   "outputs": [],
   "source": []
  }
 ],
 "metadata": {
  "kernelspec": {
   "display_name": "Python 3",
   "language": "python",
   "name": "python3"
  },
  "language_info": {
   "codemirror_mode": {
    "name": "ipython",
    "version": 3
   },
   "file_extension": ".py",
   "mimetype": "text/x-python",
   "name": "python",
   "nbconvert_exporter": "python",
   "pygments_lexer": "ipython3",
   "version": "3.7.4"
  }
 },
 "nbformat": 4,
 "nbformat_minor": 2
}
