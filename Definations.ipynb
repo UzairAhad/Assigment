{
 "cells": [
  {
   "cell_type": "code",
   "execution_count": 1,
   "metadata": {},
   "outputs": [
    {
     "ename": "SyntaxError",
     "evalue": "invalid syntax (<ipython-input-1-32b9adb15db1>, line 2)",
     "output_type": "error",
     "traceback": [
      "\u001b[1;36m  File \u001b[1;32m\"<ipython-input-1-32b9adb15db1>\"\u001b[1;36m, line \u001b[1;32m2\u001b[0m\n\u001b[1;33m    Object-oriented programming (OOP) is a programming language model inwhich\u001b[0m\n\u001b[1;37m                              ^\u001b[0m\n\u001b[1;31mSyntaxError\u001b[0m\u001b[1;31m:\u001b[0m invalid syntax\n"
     ]
    }
   ],
   "source": [
    "Define Object Oriented Programming Language?\n",
    "Object-oriented programming (OOP) is a programming language model inwhich\n",
    "programs are organized around data, or objects, rather thanfunctions and\n",
    "logic. An object can be defined as a data field that has unique attributes\n",
    "and behavior."
   ]
  },
  {
   "cell_type": "code",
   "execution_count": 2,
   "metadata": {},
   "outputs": [
    {
     "ename": "SyntaxError",
     "evalue": "invalid syntax (<ipython-input-2-69d422aecdf9>, line 3)",
     "output_type": "error",
     "traceback": [
      "\u001b[1;36m  File \u001b[1;32m\"<ipython-input-2-69d422aecdf9>\"\u001b[1;36m, line \u001b[1;32m3\u001b[0m\n\u001b[1;33m    Modularity for easier troubleshooting. Something has gone wrong, and you have no idea where to look. ...\u001b[0m\n\u001b[1;37m                 ^\u001b[0m\n\u001b[1;31mSyntaxError\u001b[0m\u001b[1;31m:\u001b[0m invalid syntax\n"
     ]
    }
   ],
   "source": [
    "List down the Benefits of OOP?\n",
    "\n",
    "Modularity for easier troubleshooting. Something has gone wrong, and you have no idea where to look. ...\n",
    "Reuse of code through inheritance. ...\n",
    "Flexibility through polymorphism. ...\n",
    "Effective problem solving."
   ]
  },
  {
   "cell_type": "code",
   "execution_count": 3,
   "metadata": {},
   "outputs": [
    {
     "ename": "SyntaxError",
     "evalue": "invalid syntax (<ipython-input-3-a11fa6f823ba>, line 2)",
     "output_type": "error",
     "traceback": [
      "\u001b[1;36m  File \u001b[1;32m\"<ipython-input-3-a11fa6f823ba>\"\u001b[1;36m, line \u001b[1;32m2\u001b[0m\n\u001b[1;33m    A function is a piece of code that is called by name.\u001b[0m\n\u001b[1;37m             ^\u001b[0m\n\u001b[1;31mSyntaxError\u001b[0m\u001b[1;31m:\u001b[0m invalid syntax\n"
     ]
    }
   ],
   "source": [
    "print(Differentiate between function and method?\n",
    "A function is a piece of code that is called by name. \n",
    "It can be passed data to operate on (i.e. the parameters) and can optionally\n",
    "return data (the return value). All data that is passed to a function is explicitly passed. \n",
    "A method is a piece of code that is called by a name that is associated with an object.\")"
   ]
  },
  {
   "cell_type": "code",
   "execution_count": 4,
   "metadata": {},
   "outputs": [
    {
     "ename": "SyntaxError",
     "evalue": "invalid syntax (<ipython-input-4-cf3d3325be23>, line 1)",
     "output_type": "error",
     "traceback": [
      "\u001b[1;36m  File \u001b[1;32m\"<ipython-input-4-cf3d3325be23>\"\u001b[1;36m, line \u001b[1;32m1\u001b[0m\n\u001b[1;33m    Define Class :\u001b[0m\n\u001b[1;37m               ^\u001b[0m\n\u001b[1;31mSyntaxError\u001b[0m\u001b[1;31m:\u001b[0m invalid syntax\n"
     ]
    }
   ],
   "source": [
    "Define Class :\n",
    "    In object-oriented programming, a class is a blueprint for creating objects \n",
    "    (a particular data structure), providing initial values for state (member variables or attributes),\n",
    "    and implementations of behavior (member functions or methods). \n",
    "    The user-defined objects are created using the class keyword.\n",
    "Define Object:\n",
    "    Object-oriented programming is a programming paradigm based on the concept of \"objects\",\n",
    "    which can contain data, in the form of fields, and code, in the form of procedures. \n",
    "Define Attribute:\n",
    "    In computing, an attribute is a specification that defines a property of an object, element, or file.\n",
    "Define Behavior:\n",
    "    The behavior of an object is defined by its methods, which are the functions \n",
    "    and subroutines defined within the object class.\n",
    "    "
   ]
  },
  {
   "cell_type": "code",
   "execution_count": null,
   "metadata": {},
   "outputs": [],
   "source": []
  }
 ],
 "metadata": {
  "kernelspec": {
   "display_name": "Python 3",
   "language": "python",
   "name": "python3"
  },
  "language_info": {
   "codemirror_mode": {
    "name": "ipython",
    "version": 3
   },
   "file_extension": ".py",
   "mimetype": "text/x-python",
   "name": "python",
   "nbconvert_exporter": "python",
   "pygments_lexer": "ipython3",
   "version": "3.7.4"
  }
 },
 "nbformat": 4,
 "nbformat_minor": 2
}
